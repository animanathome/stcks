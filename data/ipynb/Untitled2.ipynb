{
 "cells": [
  {
   "cell_type": "code",
   "execution_count": 48,
   "metadata": {
    "collapsed": false
   },
   "outputs": [
    {
     "name": "stdout",
     "output_type": "stream",
     "text": [
      "TSLA 0.168936170213 -0.434194943497\n"
     ]
    }
   ],
   "source": [
    "import sys\n",
    "sys.path.append('/Users/manu/Code/stcks/data/python')\n",
    "import pick_ticker\n",
    "reload(pick_ticker)\n",
    "l = pick_ticker.ticker_performance()"
   ]
  },
  {
   "cell_type": "code",
   "execution_count": 49,
   "metadata": {
    "collapsed": false
   },
   "outputs": [
    {
     "data": {
      "text/plain": [
       "-0.43419494349723475"
      ]
     },
     "execution_count": 49,
     "metadata": {},
     "output_type": "execute_result"
    }
   ],
   "source": [
    "l['50dm'].mean()\n",
    "((l['close'][-1]/l['close'].max())-1)*100"
   ]
  },
  {
   "cell_type": "code",
   "execution_count": 50,
   "metadata": {
    "collapsed": false
   },
   "outputs": [
    {
     "data": {
      "text/html": [
       "<div>\n",
       "<table border=\"1\" class=\"dataframe\">\n",
       "  <thead>\n",
       "    <tr style=\"text-align: right;\">\n",
       "      <th></th>\n",
       "      <th>close</th>\n",
       "      <th>high</th>\n",
       "      <th>low</th>\n",
       "      <th>open</th>\n",
       "      <th>volume</th>\n",
       "      <th>20d</th>\n",
       "      <th>50d</th>\n",
       "      <th>50dm</th>\n",
       "      <th>20dm</th>\n",
       "    </tr>\n",
       "    <tr>\n",
       "      <th>Date</th>\n",
       "      <th></th>\n",
       "      <th></th>\n",
       "      <th></th>\n",
       "      <th></th>\n",
       "      <th></th>\n",
       "      <th></th>\n",
       "      <th></th>\n",
       "      <th></th>\n",
       "      <th></th>\n",
       "    </tr>\n",
       "  </thead>\n",
       "  <tbody>\n",
       "    <tr>\n",
       "      <th>2017-02-09</th>\n",
       "      <td>269.200012</td>\n",
       "      <td>271.179993</td>\n",
       "      <td>266.149994</td>\n",
       "      <td>266.250000</td>\n",
       "      <td>7820200</td>\n",
       "      <td>249.72</td>\n",
       "      <td>223.51</td>\n",
       "      <td>1.46</td>\n",
       "      <td>1.97</td>\n",
       "    </tr>\n",
       "    <tr>\n",
       "      <th>2017-02-10</th>\n",
       "      <td>269.230011</td>\n",
       "      <td>270.950012</td>\n",
       "      <td>266.109985</td>\n",
       "      <td>269.790009</td>\n",
       "      <td>3619700</td>\n",
       "      <td>251.70</td>\n",
       "      <td>225.11</td>\n",
       "      <td>1.60</td>\n",
       "      <td>1.98</td>\n",
       "    </tr>\n",
       "    <tr>\n",
       "      <th>2017-02-13</th>\n",
       "      <td>280.600006</td>\n",
       "      <td>280.790009</td>\n",
       "      <td>270.510010</td>\n",
       "      <td>270.739990</td>\n",
       "      <td>7029600</td>\n",
       "      <td>253.85</td>\n",
       "      <td>226.93</td>\n",
       "      <td>1.82</td>\n",
       "      <td>2.15</td>\n",
       "    </tr>\n",
       "    <tr>\n",
       "      <th>2017-02-14</th>\n",
       "      <td>280.980011</td>\n",
       "      <td>287.390015</td>\n",
       "      <td>278.609985</td>\n",
       "      <td>279.029999</td>\n",
       "      <td>7329400</td>\n",
       "      <td>256.12</td>\n",
       "      <td>228.91</td>\n",
       "      <td>1.98</td>\n",
       "      <td>2.27</td>\n",
       "    </tr>\n",
       "    <tr>\n",
       "      <th>2017-02-15</th>\n",
       "      <td>279.760010</td>\n",
       "      <td>282.239990</td>\n",
       "      <td>276.440002</td>\n",
       "      <td>280.000000</td>\n",
       "      <td>4935600</td>\n",
       "      <td>258.19</td>\n",
       "      <td>230.88</td>\n",
       "      <td>1.97</td>\n",
       "      <td>2.07</td>\n",
       "    </tr>\n",
       "  </tbody>\n",
       "</table>\n",
       "</div>"
      ],
      "text/plain": [
       "                 close        high         low        open   volume     20d  \\\n",
       "Date                                                                          \n",
       "2017-02-09  269.200012  271.179993  266.149994  266.250000  7820200  249.72   \n",
       "2017-02-10  269.230011  270.950012  266.109985  269.790009  3619700  251.70   \n",
       "2017-02-13  280.600006  280.790009  270.510010  270.739990  7029600  253.85   \n",
       "2017-02-14  280.980011  287.390015  278.609985  279.029999  7329400  256.12   \n",
       "2017-02-15  279.760010  282.239990  276.440002  280.000000  4935600  258.19   \n",
       "\n",
       "               50d  50dm  20dm  \n",
       "Date                            \n",
       "2017-02-09  223.51  1.46  1.97  \n",
       "2017-02-10  225.11  1.60  1.98  \n",
       "2017-02-13  226.93  1.82  2.15  \n",
       "2017-02-14  228.91  1.98  2.27  \n",
       "2017-02-15  230.88  1.97  2.07  "
      ]
     },
     "execution_count": 50,
     "metadata": {},
     "output_type": "execute_result"
    }
   ],
   "source": [
    "l.tail()"
   ]
  },
  {
   "cell_type": "code",
   "execution_count": 61,
   "metadata": {
    "collapsed": false
   },
   "outputs": [
    {
     "data": {
      "text/plain": [
       "280.7900085"
      ]
     },
     "execution_count": 61,
     "metadata": {},
     "output_type": "execute_result"
    }
   ],
   "source": [
    "l['close'][-10:-8].mean()\n",
    "l['close'][-3:-1].mean()"
   ]
  }
 ],
 "metadata": {
  "kernelspec": {
   "display_name": "Python [conda root]",
   "language": "python",
   "name": "conda-root-py"
  },
  "language_info": {
   "codemirror_mode": {
    "name": "ipython",
    "version": 2
   },
   "file_extension": ".py",
   "mimetype": "text/x-python",
   "name": "python",
   "nbconvert_exporter": "python",
   "pygments_lexer": "ipython2",
   "version": "2.7.12"
  }
 },
 "nbformat": 4,
 "nbformat_minor": 1
}
